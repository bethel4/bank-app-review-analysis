{
 "cells": [
  {
   "cell_type": "code",
   "execution_count": 6,
   "id": "d02dff34-ca08-4b95-8b2a-bfede9273271",
   "metadata": {},
   "outputs": [
    {
     "data": {
      "text/html": [
       "<div>\n",
       "<style scoped>\n",
       "    .dataframe tbody tr th:only-of-type {\n",
       "        vertical-align: middle;\n",
       "    }\n",
       "\n",
       "    .dataframe tbody tr th {\n",
       "        vertical-align: top;\n",
       "    }\n",
       "\n",
       "    .dataframe thead th {\n",
       "        text-align: right;\n",
       "    }\n",
       "</style>\n",
       "<table border=\"1\" class=\"dataframe\">\n",
       "  <thead>\n",
       "    <tr style=\"text-align: right;\">\n",
       "      <th></th>\n",
       "      <th>review</th>\n",
       "      <th>rating</th>\n",
       "      <th>date</th>\n",
       "      <th>bank</th>\n",
       "      <th>source</th>\n",
       "      <th>sentiment_label</th>\n",
       "      <th>sentiment_score</th>\n",
       "      <th>identified_theme</th>\n",
       "    </tr>\n",
       "  </thead>\n",
       "  <tbody>\n",
       "    <tr>\n",
       "      <th>0</th>\n",
       "      <td>መቸሸጠ</td>\n",
       "      <td>5</td>\n",
       "      <td>2025-06-03</td>\n",
       "      <td>Dashen Bank</td>\n",
       "      <td>Google Play</td>\n",
       "      <td>neutral</td>\n",
       "      <td>0.0000</td>\n",
       "      <td>Other</td>\n",
       "    </tr>\n",
       "    <tr>\n",
       "      <th>1</th>\n",
       "      <td>wow</td>\n",
       "      <td>5</td>\n",
       "      <td>2025-06-03</td>\n",
       "      <td>Dashen Bank</td>\n",
       "      <td>Google Play</td>\n",
       "      <td>positive</td>\n",
       "      <td>0.5859</td>\n",
       "      <td>Other</td>\n",
       "    </tr>\n",
       "    <tr>\n",
       "      <th>2</th>\n",
       "      <td>gadaa</td>\n",
       "      <td>5</td>\n",
       "      <td>2025-06-01</td>\n",
       "      <td>Dashen Bank</td>\n",
       "      <td>Google Play</td>\n",
       "      <td>neutral</td>\n",
       "      <td>0.0000</td>\n",
       "      <td>Other</td>\n",
       "    </tr>\n",
       "    <tr>\n",
       "      <th>3</th>\n",
       "      <td>Massive upgrade from the Amole app.</td>\n",
       "      <td>5</td>\n",
       "      <td>2025-05-31</td>\n",
       "      <td>Dashen Bank</td>\n",
       "      <td>Google Play</td>\n",
       "      <td>neutral</td>\n",
       "      <td>0.0000</td>\n",
       "      <td>Other</td>\n",
       "    </tr>\n",
       "    <tr>\n",
       "      <th>4</th>\n",
       "      <td>good</td>\n",
       "      <td>4</td>\n",
       "      <td>2025-05-31</td>\n",
       "      <td>Dashen Bank</td>\n",
       "      <td>Google Play</td>\n",
       "      <td>positive</td>\n",
       "      <td>0.4404</td>\n",
       "      <td>Positive Feedback</td>\n",
       "    </tr>\n",
       "  </tbody>\n",
       "</table>\n",
       "</div>"
      ],
      "text/plain": [
       "                                review  rating        date         bank  \\\n",
       "0                                 መቸሸጠ       5  2025-06-03  Dashen Bank   \n",
       "1                                  wow       5  2025-06-03  Dashen Bank   \n",
       "2                                gadaa       5  2025-06-01  Dashen Bank   \n",
       "3  Massive upgrade from the Amole app.       5  2025-05-31  Dashen Bank   \n",
       "4                                 good       4  2025-05-31  Dashen Bank   \n",
       "\n",
       "        source sentiment_label  sentiment_score   identified_theme  \n",
       "0  Google Play         neutral           0.0000              Other  \n",
       "1  Google Play        positive           0.5859              Other  \n",
       "2  Google Play         neutral           0.0000              Other  \n",
       "3  Google Play         neutral           0.0000              Other  \n",
       "4  Google Play        positive           0.4404  Positive Feedback  "
      ]
     },
     "execution_count": 6,
     "metadata": {},
     "output_type": "execute_result"
    }
   ],
   "source": [
    "import pandas as pd\n",
    "\n",
    "# Load the sentiment and theme results\n",
    "df = pd.read_csv(\"../data/sentiment_themes.csv\")\n",
    "\n",
    "# Show first few rows\n",
    "df.head()\n"
   ]
  },
  {
   "cell_type": "code",
   "execution_count": 7,
   "id": "348d194a-dc6c-4af5-8475-9468623dd7b5",
   "metadata": {},
   "outputs": [
    {
     "name": "stdout",
     "output_type": "stream",
     "text": [
      "<class 'pandas.core.frame.DataFrame'>\n",
      "RangeIndex: 1407 entries, 0 to 1406\n",
      "Data columns (total 8 columns):\n",
      " #   Column            Non-Null Count  Dtype  \n",
      "---  ------            --------------  -----  \n",
      " 0   review            1407 non-null   object \n",
      " 1   rating            1407 non-null   int64  \n",
      " 2   date              1407 non-null   object \n",
      " 3   bank              1407 non-null   object \n",
      " 4   source            1407 non-null   object \n",
      " 5   sentiment_label   1407 non-null   object \n",
      " 6   sentiment_score   1407 non-null   float64\n",
      " 7   identified_theme  1407 non-null   object \n",
      "dtypes: float64(1), int64(1), object(6)\n",
      "memory usage: 88.1+ KB\n"
     ]
    },
    {
     "data": {
      "text/plain": [
       "review              0\n",
       "rating              0\n",
       "date                0\n",
       "bank                0\n",
       "source              0\n",
       "sentiment_label     0\n",
       "sentiment_score     0\n",
       "identified_theme    0\n",
       "dtype: int64"
      ]
     },
     "execution_count": 7,
     "metadata": {},
     "output_type": "execute_result"
    }
   ],
   "source": [
    "# Summary of the dataframe\n",
    "df.info()\n",
    "\n",
    "# Check for any missing data\n",
    "df.isnull().sum()\n"
   ]
  },
  {
   "cell_type": "code",
   "execution_count": 3,
   "id": "472c9bed-0fb8-4c2f-937b-7f884cdc797a",
   "metadata": {},
   "outputs": [
    {
     "data": {
      "text/plain": [
       "sentiment_label\n",
       "positive    769\n",
       "neutral     423\n",
       "negative    215\n",
       "Name: count, dtype: int64"
      ]
     },
     "execution_count": 3,
     "metadata": {},
     "output_type": "execute_result"
    }
   ],
   "source": [
    "df['sentiment_label'].value_counts()\n"
   ]
  },
  {
   "cell_type": "code",
   "execution_count": 4,
   "id": "e32d2edf-3046-45ba-bdef-63a6667d914a",
   "metadata": {},
   "outputs": [
    {
     "data": {
      "text/plain": [
       "rating\n",
       "1   -0.140184\n",
       "2   -0.013467\n",
       "3    0.164703\n",
       "4    0.273532\n",
       "5    0.433687\n",
       "Name: sentiment_score, dtype: float64"
      ]
     },
     "execution_count": 4,
     "metadata": {},
     "output_type": "execute_result"
    }
   ],
   "source": [
    "df.groupby('rating')['sentiment_score'].mean()\n"
   ]
  },
  {
   "cell_type": "code",
   "execution_count": 8,
   "id": "66d3ee48-e8b8-4181-ac1b-ba82cef5c35e",
   "metadata": {},
   "outputs": [
    {
     "data": {
      "text/plain": [
       "identified_theme\n",
       "Other                          795\n",
       "Positive Feedback              231\n",
       "Transaction Performance        110\n",
       "User Interface & Experience     74\n",
       "Feature Requests                70\n",
       "Customer Support                45\n",
       "Account Access Issues           44\n",
       "Stability & Reliability         38\n",
       "Name: count, dtype: int64"
      ]
     },
     "execution_count": 8,
     "metadata": {},
     "output_type": "execute_result"
    }
   ],
   "source": [
    "df[\"identified_theme\"].value_counts()\n"
   ]
  },
  {
   "cell_type": "code",
   "execution_count": null,
   "id": "54c2aed4-777c-47cb-9ccf-8048f2264185",
   "metadata": {},
   "outputs": [],
   "source": []
  }
 ],
 "metadata": {
  "kernelspec": {
   "display_name": "Python 3 (ipykernel)",
   "language": "python",
   "name": "python3"
  },
  "language_info": {
   "codemirror_mode": {
    "name": "ipython",
    "version": 3
   },
   "file_extension": ".py",
   "mimetype": "text/x-python",
   "name": "python",
   "nbconvert_exporter": "python",
   "pygments_lexer": "ipython3",
   "version": "3.10.12"
  }
 },
 "nbformat": 4,
 "nbformat_minor": 5
}
